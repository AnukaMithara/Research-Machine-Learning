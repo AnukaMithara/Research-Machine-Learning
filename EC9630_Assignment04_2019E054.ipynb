{
  "nbformat": 4,
  "nbformat_minor": 0,
  "metadata": {
    "colab": {
      "provenance": [],
      "authorship_tag": "ABX9TyMBg4zVmijAtaZ+D9G6yf/g",
      "include_colab_link": true
    },
    "kernelspec": {
      "name": "python3",
      "display_name": "Python 3"
    },
    "language_info": {
      "name": "python"
    }
  },
  "cells": [
    {
      "cell_type": "markdown",
      "metadata": {
        "id": "view-in-github",
        "colab_type": "text"
      },
      "source": [
        "<a href=\"https://colab.research.google.com/github/AnukaMithara/Research-Machine-Learning/blob/main/EC9630_Assignment04_2019E054.ipynb\" target=\"_parent\"><img src=\"https://colab.research.google.com/assets/colab-badge.svg\" alt=\"Open In Colab\"/></a>"
      ]
    },
    {
      "cell_type": "markdown",
      "source": [
        "# **Assignment 4**\n",
        "# **EC9630: Machine Learning**\n",
        "## KARUNANAYAKA D.W.A.M.\n",
        "## 2019/E/054"
      ],
      "metadata": {
        "id": "EAxwMuRihfkF"
      }
    },
    {
      "cell_type": "markdown",
      "source": [
        "### 1. Define a binary classification dataset with 1000 instances and 10 features using skitlearn"
      ],
      "metadata": {
        "id": "fm1nCz5fh4Dy"
      }
    },
    {
      "cell_type": "code",
      "source": [
        "from sklearn.datasets import make_classification\n",
        "\n",
        "X, y = make_classification(n_samples=1000, n_features=10, random_state=54)\n"
      ],
      "metadata": {
        "id": "VHXSqD9BiBO2"
      },
      "execution_count": 1,
      "outputs": []
    },
    {
      "cell_type": "markdown",
      "source": [
        "### 2. Use that dataset for classification using perceptron."
      ],
      "metadata": {
        "id": "3V56AIGLiRMi"
      }
    },
    {
      "cell_type": "code",
      "source": [
        "from sklearn.linear_model import Perceptron\n",
        "\n",
        "perceptron = Perceptron()\n"
      ],
      "metadata": {
        "id": "03IcmsCbiVPc"
      },
      "execution_count": 2,
      "outputs": []
    },
    {
      "cell_type": "markdown",
      "source": [
        "### 3. As usual Split that dataset into training set (80%) and test set."
      ],
      "metadata": {
        "id": "_XKoUb0ficAx"
      }
    },
    {
      "cell_type": "code",
      "source": [
        "from sklearn.model_selection import train_test_split\n",
        "\n",
        "X_train, X_test, y_train, y_test = train_test_split(X, y, test_size=0.2, random_state=54)\n"
      ],
      "metadata": {
        "id": "_tUVpoRBifA3"
      },
      "execution_count": 3,
      "outputs": []
    },
    {
      "cell_type": "markdown",
      "source": [
        "### 4. Train a perceptron model on your training set and test your model on the test data."
      ],
      "metadata": {
        "id": "5nvciAWSikvK"
      }
    },
    {
      "cell_type": "code",
      "source": [
        "perceptron.fit(X_train, y_train)\n",
        "y_pred = perceptron.predict(X_test)\n"
      ],
      "metadata": {
        "id": "SAfAQFuQio66"
      },
      "execution_count": 4,
      "outputs": []
    },
    {
      "cell_type": "markdown",
      "source": [
        "### 5. Print the accuracy of your model.\n"
      ],
      "metadata": {
        "id": "-qEgdUwJiuUL"
      }
    },
    {
      "cell_type": "code",
      "source": [
        "from sklearn.metrics import accuracy_score\n",
        "\n",
        "accuracy = accuracy_score(y_test, y_pred)\n",
        "print(\"Accuracy:\", accuracy)\n"
      ],
      "metadata": {
        "colab": {
          "base_uri": "https://localhost:8080/"
        },
        "id": "jh0ssQAhiyj_",
        "outputId": "3f19b2fd-90ea-4913-c2cb-fa65f2c50ed3"
      },
      "execution_count": 5,
      "outputs": [
        {
          "output_type": "stream",
          "name": "stdout",
          "text": [
            "Accuracy: 0.985\n"
          ]
        }
      ]
    }
  ]
}