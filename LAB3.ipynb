{
  "cells": [
    {
      "cell_type": "markdown",
      "metadata": {
        "id": "view-in-github",
        "colab_type": "text"
      },
      "source": [
        "<a href=\"https://colab.research.google.com/github/AnukaMithara/Research-Machine-Learning/blob/main/LAB3.ipynb\" target=\"_parent\"><img src=\"https://colab.research.google.com/assets/colab-badge.svg\" alt=\"Open In Colab\"/></a>"
      ]
    },
    {
      "cell_type": "markdown",
      "metadata": {
        "id": "74kBTBKEw7FE"
      },
      "source": [
        "# EC9630:  MACHINE LEARNING\n",
        "# LAB 03\n",
        "### KARUNANAYAKA D.W.A.M.\n",
        "### 2019/E/054\n",
        "### 31 MAY 2023"
      ]
    },
    {
      "cell_type": "markdown",
      "metadata": {
        "id": "D13wVd_ew7FH"
      },
      "source": [
        "## 1.  Study  the  dataset  ’Fashion-MNIST’  in  Keras.   Answer  the  following questions in relation to the above dataset.\n",
        "\n",
        "### (a)  Find out whether it can be used for regression or classification.\n",
        "####       The 'Fashion-MNIST' dataset can be used for classification tasks.\n",
        "  \n",
        "\n",
        "### (b)  What is the size of the images?\n",
        "####        The size of the images in the 'Fashion-MNIST' dataset is 28x28 pixels.\n",
        "   \n",
        "\n",
        "### (c)  How many images are there in the train data?\n",
        "####        The number of images in the train data can vary, depending on how the dataset is split. Typically, the 'Fashion-MNIST' dataset \n",
        "\n",
        "### (d)  State the number of images in test data.\n",
        "####        The number of images in the test data is also variable depending on the dataset split, but generally, the 'Fashion-MNIST' dataset    \n",
        "\n",
        "### (e)  How many classes are there in the data?  Write down those classes.\n",
        "####        T-shirt/top, Trouser, Pullover, Dress, Coat, Sandal, Shirt, Sneaker, Bag, Ankle boot"
      ]
    },
    {
      "cell_type": "markdown",
      "metadata": {
        "id": "OKxexvW2w7FJ"
      },
      "source": [
        "## 2.  Load that dataset directly from Keras using Python."
      ]
    },
    {
      "cell_type": "code",
      "execution_count": 1,
      "metadata": {
        "colab": {
          "base_uri": "https://localhost:8080/"
        },
        "id": "ve8uwDyVw7FL",
        "outputId": "e26552ae-30b4-451b-f67c-e897cfe6c86b"
      },
      "outputs": [
        {
          "output_type": "stream",
          "name": "stdout",
          "text": [
            "Downloading data from https://storage.googleapis.com/tensorflow/tf-keras-datasets/train-labels-idx1-ubyte.gz\n",
            "29515/29515 [==============================] - 0s 0us/step\n",
            "Downloading data from https://storage.googleapis.com/tensorflow/tf-keras-datasets/train-images-idx3-ubyte.gz\n",
            "26421880/26421880 [==============================] - 0s 0us/step\n",
            "Downloading data from https://storage.googleapis.com/tensorflow/tf-keras-datasets/t10k-labels-idx1-ubyte.gz\n",
            "5148/5148 [==============================] - 0s 0us/step\n",
            "Downloading data from https://storage.googleapis.com/tensorflow/tf-keras-datasets/t10k-images-idx3-ubyte.gz\n",
            "4422102/4422102 [==============================] - 0s 0us/step\n"
          ]
        }
      ],
      "source": [
        "from keras.datasets import fashion_mnist\n",
        "\n",
        "(x_train, y_train), (x_test, y_test) = fashion_mnist.load_data()\n",
        "lebels = y_test"
      ]
    },
    {
      "cell_type": "markdown",
      "metadata": {
        "id": "fTH0V6e4w7FN"
      },
      "source": [
        "## 3.  View some images in training data, for example draw the 11th image in your training data. "
      ]
    },
    {
      "cell_type": "code",
      "execution_count": 2,
      "metadata": {
        "colab": {
          "base_uri": "https://localhost:8080/",
          "height": 517
        },
        "id": "J3toavvEw7FO",
        "outputId": "c4b3b778-d59c-4e64-bf84-00db98552429"
      },
      "outputs": [
        {
          "output_type": "display_data",
          "data": {
            "text/plain": [
              "<Figure size 800x600 with 6 Axes>"
            ],
            "image/png": "[encoded data removed]"
          },
          "metadata": {}
        }
      ],
      "source": [
        "import matplotlib.pyplot as plt\n",
        "\n",
        "(x_train, y_train), (x_test, y_test) = fashion_mnist.load_data()\n",
        "\n",
        "# Get the 11th to 16th images in the training dataset\n",
        "images = x_train[10:16]\n",
        "\n",
        "# Plot the images with labels\n",
        "fig, axes = plt.subplots(2, 3, figsize=(8, 6))\n",
        "for i in range(2):\n",
        "    for j in range(3):\n",
        "        axes[i, j].imshow(images[i * 3 + j], cmap='gray')\n",
        "        axes[i, j].set_title(i * 3 + j + 11)\n",
        "\n",
        "plt.show()\n"
      ]
    },
    {
      "cell_type": "markdown",
      "metadata": {
        "id": "Th0wr_Fpw7FR"
      },
      "source": [
        "## 4.  Normalize your data (train and test) between 0 and 1. Hint:  This is a grayscale image has pixel values between 0 and 255."
      ]
    },
    {
      "cell_type": "code",
      "execution_count": 3,
      "metadata": {
        "id": "wZtk15iOw7FS"
      },
      "outputs": [],
      "source": [
        "from keras.utils import to_categorical\n",
        "\n",
        "x_train = x_train / 255.0\n",
        "x_test = x_test / 255.0\n",
        "\n",
        "\n",
        "y_train = to_categorical(y_train)\n",
        "y_test = to_categorical(y_test)\n"
      ]
    },
    {
      "cell_type": "markdown",
      "metadata": {
        "id": "4z_QUKo3w7FU"
      },
      "source": [
        "## 5.  Now divide the training data into two:  Validation images (first 5000 images from the initial training data) and Training images (rest of the images in your initial training data)."
      ]
    },
    {
      "cell_type": "code",
      "execution_count": 4,
      "metadata": {
        "colab": {
          "base_uri": "https://localhost:8080/"
        },
        "id": "mrcK9s2Cw7FV",
        "outputId": "ee75890b-a44c-44a5-da52-844654bf6453"
      },
      "outputs": [
        {
          "output_type": "stream",
          "name": "stdout",
          "text": [
            "Size of Validation images set of x:  (5000, 28, 28)\n",
            "Size of Validation images set of y:  (5000, 10)\n",
            "\n",
            "Size of Training images set of x:  (55000, 28, 28)\n",
            "Size of Training images set of y:  (55000, 10)\n"
          ]
        }
      ],
      "source": [
        "x_val = x_train[:5000]\n",
        "y_val = y_train[:5000]\n",
        "x_train = x_train[5000:]\n",
        "y_train = y_train[5000:]\n",
        "\n",
        "print(\"Size of Validation images set of x: \", x_val.shape)\n",
        "print(\"Size of Validation images set of y: \", y_val.shape)\n",
        "print(\"\\nSize of Training images set of x: \", x_train.shape)\n",
        "print(\"Size of Training images set of y: \", y_train.shape)"
      ]
    },
    {
      "cell_type": "markdown",
      "metadata": {
        "id": "NPTV_JtRw7FX"
      },
      "source": [
        "## 6.  Initialize the weight and bias parameters of your model."
      ]
    },
    {
      "cell_type": "code",
      "execution_count": 4,
      "metadata": {
        "id": "sq-k6TNJw7FY"
      },
      "outputs": [],
      "source": [
        "\n"
      ]
    },
    {
      "cell_type": "markdown",
      "metadata": {
        "id": "m86G6t8qw7FY"
      },
      "source": [
        "## 7.  Now build the neural network model with the following characteristics:\n",
        "### (a)  One Flatten layer as the input layer.\n",
        "### (b)  Two dense relu layers as hidden layers.\n",
        "### (c)  A dense softmax layer as the output layer."
      ]
    },
    {
      "cell_type": "code",
      "execution_count": 5,
      "metadata": {
        "id": "fsCUHduow7FZ"
      },
      "outputs": [],
      "source": [
        "import tensorflow as tf\n",
        "\n",
        "snn = tf.keras.models.Sequential()\n",
        "\n",
        "# input layer\n",
        "snn.add(tf.keras.layers.Flatten(input_shape=(28, 28)))\n",
        "\n",
        "# hidden layer 1\n",
        "snn.add(tf.keras.layers.Dense(300, activation=\"relu\"))\n",
        "\n",
        "# hidden layer 2\n",
        "snn.add(tf.keras.layers.Dense(100, activation=\"relu\"))\n",
        "\n",
        "# output layer\n",
        "snn.add(tf.keras.layers.Dense(10, activation=\"softmax\"))"
      ]
    },
    {
      "cell_type": "markdown",
      "metadata": {
        "id": "_VwNsqL6w7FZ"
      },
      "source": [
        "##  8.  Answer the following questions.\n",
        "### (a)  What is the use of Flatten layer?\n",
        "#### The Flatten layer is used to convert the input data from a 2D array to a 1D array. This is necessary because the next layer in the model, the Dense layer, expects a 1D array as input.\n",
        "\n",
        "### (b)  Generally, softmax activation function is used in the output layer of the classification networks.  Why?\n",
        "#### Because the softmax activation function transforms the raw outputs of the neural network into a vector of probabilities, essentially a probability distribution over the input classes."
      ]
    },
    {
      "cell_type": "markdown",
      "metadata": {
        "id": "DbGMhCpjw7FZ"
      },
      "source": [
        "# 9.  Print the summary of the network."
      ]
    },
    {
      "cell_type": "code",
      "execution_count": 6,
      "metadata": {
        "colab": {
          "base_uri": "https://localhost:8080/"
        },
        "id": "FkENgoGEw7Fa",
        "outputId": "f812ef4b-bbaa-4f4f-87e2-03eb2f061154"
      },
      "outputs": [
        {
          "output_type": "stream",
          "name": "stdout",
          "text": [
            "Model: \"sequential\"\n",
            "_________________________________________________________________\n",
            " Layer (type)                Output Shape              Param #   \n",
            "=================================================================\n",
            " flatten (Flatten)           (None, 784)               0         \n",
            "                                                                 \n",
            " dense (Dense)               (None, 300)               235500    \n",
            "                                                                 \n",
            " dense_1 (Dense)             (None, 100)               30100     \n",
            "                                                                 \n",
            " dense_2 (Dense)             (None, 10)                1010      \n",
            "                                                                 \n",
            "=================================================================\n",
            "Total params: 266,610\n",
            "Trainable params: 266,610\n",
            "Non-trainable params: 0\n",
            "_________________________________________________________________\n"
          ]
        }
      ],
      "source": [
        "snn.summary()"
      ]
    },
    {
      "cell_type": "markdown",
      "metadata": {
        "id": "_NlAdhqew7Fa"
      },
      "source": [
        "## 10.  Now compile the model with the desired loss function, optimizer and metrics."
      ]
    },
    {
      "cell_type": "code",
      "execution_count": 7,
      "metadata": {
        "id": "Ifq-ldeIw7Fb"
      },
      "outputs": [],
      "source": [
        "snn.compile(loss='categorical_crossentropy', optimizer='adam', metrics=['accuracy'])\n"
      ]
    },
    {
      "cell_type": "markdown",
      "metadata": {
        "id": "Z9wD0PRfw7Fd"
      },
      "source": [
        "## 11.  Now train your model on the training data and validate your model."
      ]
    },
    {
      "cell_type": "code",
      "execution_count": 8,
      "metadata": {
        "colab": {
          "base_uri": "https://localhost:8080/"
        },
        "id": "qs7-tobrw7Fd",
        "outputId": "7383ec90-8236-484c-a07e-6984a4425cc7"
      },
      "outputs": [
        {
          "output_type": "stream",
          "name": "stdout",
          "text": [
            "Epoch 1/10\n",
            "430/430 [==============================] - 5s 8ms/step - loss: 0.5210 - accuracy: 0.8173 - val_loss: 0.4126 - val_accuracy: 0.8578\n",
            "Epoch 2/10\n",
            "430/430 [==============================] - 3s 8ms/step - loss: 0.3751 - accuracy: 0.8652 - val_loss: 0.3777 - val_accuracy: 0.8618\n",
            "Epoch 3/10\n",
            "430/430 [==============================] - 4s 9ms/step - loss: 0.3346 - accuracy: 0.8787 - val_loss: 0.3248 - val_accuracy: 0.8832\n",
            "Epoch 4/10\n",
            "430/430 [==============================] - 4s 10ms/step - loss: 0.3107 - accuracy: 0.8865 - val_loss: 0.3465 - val_accuracy: 0.8694\n",
            "Epoch 5/10\n",
            "430/430 [==============================] - 3s 8ms/step - loss: 0.2944 - accuracy: 0.8907 - val_loss: 0.3032 - val_accuracy: 0.8882\n",
            "Epoch 6/10\n",
            "430/430 [==============================] - 4s 8ms/step - loss: 0.2726 - accuracy: 0.8993 - val_loss: 0.3001 - val_accuracy: 0.8918\n",
            "Epoch 7/10\n",
            "430/430 [==============================] - 5s 12ms/step - loss: 0.2601 - accuracy: 0.9032 - val_loss: 0.2991 - val_accuracy: 0.8928\n",
            "Epoch 8/10\n",
            "430/430 [==============================] - 3s 8ms/step - loss: 0.2491 - accuracy: 0.9078 - val_loss: 0.3132 - val_accuracy: 0.8900\n",
            "Epoch 9/10\n",
            "430/430 [==============================] - 3s 8ms/step - loss: 0.2387 - accuracy: 0.9108 - val_loss: 0.3049 - val_accuracy: 0.8910\n",
            "Epoch 10/10\n",
            "430/430 [==============================] - 4s 10ms/step - loss: 0.2309 - accuracy: 0.9127 - val_loss: 0.2964 - val_accuracy: 0.8908\n"
          ]
        },
        {
          "output_type": "execute_result",
          "data": {
            "text/plain": [
              "<keras.callbacks.History at 0x7fda5f5e2b90>"
            ]
          },
          "metadata": {},
          "execution_count": 8
        }
      ],
      "source": [
        "snn.fit(x_train, y_train, epochs=10, batch_size=128, validation_data=(x_val, y_val))"
      ]
    },
    {
      "cell_type": "markdown",
      "metadata": {
        "id": "acrsqZNYw7Fe"
      },
      "source": [
        "## 12.  Evaluate your model on the test data.  What is the accuracy of yourmodel on the test data?"
      ]
    },
    {
      "cell_type": "code",
      "execution_count": 9,
      "metadata": {
        "colab": {
          "base_uri": "https://localhost:8080/"
        },
        "id": "bontWwIvw7Fe",
        "outputId": "34a184a5-6f8f-4baa-c4e2-85bfbb47b26f"
      },
      "outputs": [
        {
          "output_type": "stream",
          "name": "stdout",
          "text": [
            "313/313 [==============================] - 1s 3ms/step - loss: 0.3283 - accuracy: 0.8828\n"
          ]
        },
        {
          "output_type": "execute_result",
          "data": {
            "text/plain": [
              "[0.32831400632858276, 0.8827999830245972]"
            ]
          },
          "metadata": {},
          "execution_count": 9
        }
      ],
      "source": [
        "snn.evaluate(x_test, y_test)\n"
      ]
    },
    {
      "cell_type": "markdown",
      "metadata": {
        "id": "H3G0qxlVw7Ff"
      },
      "source": [
        "## 13.  Now  take  the  first  five  samples  of  test  data.   Print  the  actual  targetclasses and the predicted target classes of those five samples. "
      ]
    },
    {
      "cell_type": "code",
      "execution_count": 10,
      "metadata": {
        "colab": {
          "base_uri": "https://localhost:8080/"
        },
        "id": "O5zhrJ9Lw7Ff",
        "outputId": "d0eeed72-36c7-4425-c78d-ec5d2335d233"
      },
      "outputs": [
        {
          "output_type": "stream",
          "name": "stdout",
          "text": [
            "\n",
            "Actual target class: 9\n",
            "1/1 [==============================] - 0s 89ms/step\n",
            "Predicted target class: [9]\n",
            "\n",
            "Actual target class: 2\n",
            "1/1 [==============================] - 0s 20ms/step\n",
            "Predicted target class: [2]\n",
            "\n",
            "Actual target class: 1\n",
            "1/1 [==============================] - 0s 21ms/step\n",
            "Predicted target class: [1]\n",
            "\n",
            "Actual target class: 1\n",
            "1/1 [==============================] - 0s 20ms/step\n",
            "Predicted target class: [1]\n",
            "\n",
            "Actual target class: 6\n",
            "1/1 [==============================] - 0s 20ms/step\n",
            "Predicted target class: [6]\n"
          ]
        }
      ],
      "source": [
        "import numpy as np \n",
        "\n",
        "for i in range(5):\n",
        "  print(f\"\\nActual target class: {lebels[i]}\")\n",
        "  predict_x=snn.predict(x_test[i:i+1])\n",
        "  print(f\"Predicted target class: {np.argmax(predict_x,axis=1)}\")\n"
      ]
    }
  ],
  "metadata": {
    "kernelspec": {
      "display_name": "Python 3 (ipykernel)",
      "language": "python",
      "name": "python3"
    },
    "language_info": {
      "codemirror_mode": {
        "name": "ipython",
        "version": 3
      },
      "file_extension": ".py",
      "mimetype": "text/x-python",
      "name": "python",
      "nbconvert_exporter": "python",
      "pygments_lexer": "ipython3",
      "version": "3.10.9"
    },
    "colab": {
      "provenance": [],
      "include_colab_link": true
    }
  },
  "nbformat": 4,
  "nbformat_minor": 0
}